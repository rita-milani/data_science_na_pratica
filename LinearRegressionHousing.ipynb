{
  "nbformat": 4,
  "nbformat_minor": 0,
  "metadata": {
    "colab": {
      "name": "LinearRegressionHousing.ipynb",
      "provenance": [],
      "collapsed_sections": [],
      "authorship_tag": "ABX9TyP1kNwcXvB/XdbEPCIYeXsu",
      "include_colab_link": true
    },
    "kernelspec": {
      "name": "python3",
      "display_name": "Python 3"
    }
  },
  "cells": [
    {
      "cell_type": "markdown",
      "metadata": {
        "id": "view-in-github",
        "colab_type": "text"
      },
      "source": [
        "<a href=\"https://colab.research.google.com/github/rita-milani/data_science_na_pratica/blob/master/LinearRegressionHousing.ipynb\" target=\"_parent\"><img src=\"https://colab.research.google.com/assets/colab-badge.svg\" alt=\"Open In Colab\"/></a>"
      ]
    },
    {
      "cell_type": "markdown",
      "metadata": {
        "id": "9-gwEPeAGUC0",
        "colab_type": "text"
      },
      "source": [
        "# **Housing Value Estimate with Simple Linear Regression**\n",
        "\n",
        "After learning how to clean data, adjust the dataset, perform exploratory data analysis and plot the information in Python, we are ready to enter a new section, **Machine Learning**. To begin with, we will use a **Simple Linear Regression** model to estimate **housing value** using the library **scikit-learn**.\n",
        "\n",
        "The dataset can be obtained [here](https://raw.githubusercontent.com/carlosfab/data_science/master/datasets/housing.csv), and it contains information about median housing prices for different neighbourhoods in the state of California, together with data about location, physical attributes like number of rooms, region population and median income by region. We will perform a quick exploratory analysis and then select a variable to perform the regression.\n",
        "\n",
        "<center><img src='https://encrypted-tbn0.gstatic.com/images?q=tbn%3AANd9GcSIP5rXv0IutBvPM9sEGo8v74QKN726HYfy5LY9EBRbydUE5pfv&usqp=CAU'> </center>"
      ]
    },
    {
      "cell_type": "code",
      "metadata": {
        "id": "9BSw4vsSbt3p",
        "colab_type": "code",
        "colab": {}
      },
      "source": [
        "# import the libraries\n",
        "# importar os pacotes\n",
        "import pandas as pd\n",
        "import numpy as np\n",
        "import matplotlib.pyplot as plt\n",
        "import seaborn as sns\n",
        "\n",
        "sns.set_style()"
      ],
      "execution_count": 0,
      "outputs": []
    },
    {
      "cell_type": "code",
      "metadata": {
        "id": "Uj7cB4gKcMue",
        "colab_type": "code",
        "colab": {}
      },
      "source": [
        "# import dataset\n",
        "# importar a base de dados\n",
        "path = \"https://raw.githubusercontent.com/carlosfab/data_science/master/datasets/housing.csv\"\n",
        "df = pd.read_csv(path)"
      ],
      "execution_count": 0,
      "outputs": []
    },
    {
      "cell_type": "code",
      "metadata": {
        "id": "tZZ2gBasczoN",
        "colab_type": "code",
        "outputId": "bbf21573-d016-42f4-b7d7-f8c55c0458ea",
        "colab": {
          "base_uri": "https://localhost:8080/",
          "height": 204
        }
      },
      "source": [
        "# check the first 5 entries\n",
        "# checar as 5 primeiras entradas\n",
        "df.head()"
      ],
      "execution_count": 76,
      "outputs": [
        {
          "output_type": "execute_result",
          "data": {
            "text/html": [
              "<div>\n",
              "<style scoped>\n",
              "    .dataframe tbody tr th:only-of-type {\n",
              "        vertical-align: middle;\n",
              "    }\n",
              "\n",
              "    .dataframe tbody tr th {\n",
              "        vertical-align: top;\n",
              "    }\n",
              "\n",
              "    .dataframe thead th {\n",
              "        text-align: right;\n",
              "    }\n",
              "</style>\n",
              "<table border=\"1\" class=\"dataframe\">\n",
              "  <thead>\n",
              "    <tr style=\"text-align: right;\">\n",
              "      <th></th>\n",
              "      <th>longitude</th>\n",
              "      <th>latitude</th>\n",
              "      <th>housing_median_age</th>\n",
              "      <th>total_rooms</th>\n",
              "      <th>total_bedrooms</th>\n",
              "      <th>population</th>\n",
              "      <th>households</th>\n",
              "      <th>median_income</th>\n",
              "      <th>median_house_value</th>\n",
              "      <th>ocean_proximity</th>\n",
              "    </tr>\n",
              "  </thead>\n",
              "  <tbody>\n",
              "    <tr>\n",
              "      <th>0</th>\n",
              "      <td>-122.23</td>\n",
              "      <td>37.88</td>\n",
              "      <td>41.0</td>\n",
              "      <td>880.0</td>\n",
              "      <td>129.0</td>\n",
              "      <td>322.0</td>\n",
              "      <td>126.0</td>\n",
              "      <td>8.3252</td>\n",
              "      <td>452600.0</td>\n",
              "      <td>NEAR BAY</td>\n",
              "    </tr>\n",
              "    <tr>\n",
              "      <th>1</th>\n",
              "      <td>-122.22</td>\n",
              "      <td>37.86</td>\n",
              "      <td>21.0</td>\n",
              "      <td>7099.0</td>\n",
              "      <td>1106.0</td>\n",
              "      <td>2401.0</td>\n",
              "      <td>1138.0</td>\n",
              "      <td>8.3014</td>\n",
              "      <td>358500.0</td>\n",
              "      <td>NEAR BAY</td>\n",
              "    </tr>\n",
              "    <tr>\n",
              "      <th>2</th>\n",
              "      <td>-122.24</td>\n",
              "      <td>37.85</td>\n",
              "      <td>52.0</td>\n",
              "      <td>1467.0</td>\n",
              "      <td>190.0</td>\n",
              "      <td>496.0</td>\n",
              "      <td>177.0</td>\n",
              "      <td>7.2574</td>\n",
              "      <td>352100.0</td>\n",
              "      <td>NEAR BAY</td>\n",
              "    </tr>\n",
              "    <tr>\n",
              "      <th>3</th>\n",
              "      <td>-122.25</td>\n",
              "      <td>37.85</td>\n",
              "      <td>52.0</td>\n",
              "      <td>1274.0</td>\n",
              "      <td>235.0</td>\n",
              "      <td>558.0</td>\n",
              "      <td>219.0</td>\n",
              "      <td>5.6431</td>\n",
              "      <td>341300.0</td>\n",
              "      <td>NEAR BAY</td>\n",
              "    </tr>\n",
              "    <tr>\n",
              "      <th>4</th>\n",
              "      <td>-122.25</td>\n",
              "      <td>37.85</td>\n",
              "      <td>52.0</td>\n",
              "      <td>1627.0</td>\n",
              "      <td>280.0</td>\n",
              "      <td>565.0</td>\n",
              "      <td>259.0</td>\n",
              "      <td>3.8462</td>\n",
              "      <td>342200.0</td>\n",
              "      <td>NEAR BAY</td>\n",
              "    </tr>\n",
              "  </tbody>\n",
              "</table>\n",
              "</div>"
            ],
            "text/plain": [
              "   longitude  latitude  ...  median_house_value  ocean_proximity\n",
              "0    -122.23     37.88  ...            452600.0         NEAR BAY\n",
              "1    -122.22     37.86  ...            358500.0         NEAR BAY\n",
              "2    -122.24     37.85  ...            352100.0         NEAR BAY\n",
              "3    -122.25     37.85  ...            341300.0         NEAR BAY\n",
              "4    -122.25     37.85  ...            342200.0         NEAR BAY\n",
              "\n",
              "[5 rows x 10 columns]"
            ]
          },
          "metadata": {
            "tags": []
          },
          "execution_count": 76
        }
      ]
    },
    {
      "cell_type": "markdown",
      "metadata": {
        "id": "HWcmaXZaTj1V",
        "colab_type": "text"
      },
      "source": [
        "**Variables Dictionary**\n",
        "- `longitude` - longitude of the property, in degrees\n",
        "- `latitude` - latitude of the property, in degrees\n",
        "- `housing_median_age`- housing median age for the region, in years \n",
        "- `total_rooms` - total amount of rooms in the region\n",
        "- `total_bedrooms` - total amount of bedrooms in the region\n",
        "- `population` - total population of the region\n",
        "- `households` - amount of households in the region\n",
        "- `median_income` - median income of home owners in the region, yearly, in USD\n",
        "- `median_house_value` - median property value for the region, in USD\n",
        "- `ocean_proximity` - distance from the property to the ocean, categorical variable"
      ]
    },
    {
      "cell_type": "markdown",
      "metadata": {
        "id": "TD_J_KS6G0fr",
        "colab_type": "text"
      },
      "source": [
        "**What is the size of the dataset?**"
      ]
    },
    {
      "cell_type": "code",
      "metadata": {
        "id": "mpFz-OrPdGcT",
        "colab_type": "code",
        "outputId": "9e207d6a-f184-46ba-e7c7-3cced14e3a75",
        "colab": {
          "base_uri": "https://localhost:8080/",
          "height": 34
        }
      },
      "source": [
        "# check dataset shape\n",
        "# checar formato da base de dados\n",
        "df.shape"
      ],
      "execution_count": 77,
      "outputs": [
        {
          "output_type": "execute_result",
          "data": {
            "text/plain": [
              "(20640, 10)"
            ]
          },
          "metadata": {
            "tags": []
          },
          "execution_count": 77
        }
      ]
    },
    {
      "cell_type": "markdown",
      "metadata": {
        "id": "aKwN-vB_G5o0",
        "colab_type": "text"
      },
      "source": [
        "The dataset has 20640 rows or entries, and 10 columns or features."
      ]
    },
    {
      "cell_type": "markdown",
      "metadata": {
        "id": "42z1CzeHHDA0",
        "colab_type": "text"
      },
      "source": [
        "**Which are the listed features?**\n"
      ]
    },
    {
      "cell_type": "code",
      "metadata": {
        "id": "n8OE_GGMdgMG",
        "colab_type": "code",
        "outputId": "54cba354-6785-4d6c-b9bf-14502607fe2f",
        "colab": {
          "base_uri": "https://localhost:8080/",
          "height": 85
        }
      },
      "source": [
        "# list the columns \n",
        "# listar as colunas\n",
        "df.columns.unique()"
      ],
      "execution_count": 78,
      "outputs": [
        {
          "output_type": "execute_result",
          "data": {
            "text/plain": [
              "Index(['longitude', 'latitude', 'housing_median_age', 'total_rooms',\n",
              "       'total_bedrooms', 'population', 'households', 'median_income',\n",
              "       'median_house_value', 'ocean_proximity'],\n",
              "      dtype='object')"
            ]
          },
          "metadata": {
            "tags": []
          },
          "execution_count": 78
        }
      ]
    },
    {
      "cell_type": "markdown",
      "metadata": {
        "id": "NqJIZiogHOqw",
        "colab_type": "text"
      },
      "source": [
        "**Which are the values assumed by categorical variable `ocean_proximity`?**"
      ]
    },
    {
      "cell_type": "code",
      "metadata": {
        "id": "1FfEdzzHc8Ii",
        "colab_type": "code",
        "outputId": "2f68d2c7-2e81-4e19-dd27-f9c4c9bc6699",
        "colab": {
          "base_uri": "https://localhost:8080/",
          "height": 51
        }
      },
      "source": [
        "# enlist ocean_proximity categorical values\n",
        "# listar os valores assumidos pela variável ocean_proximity\n",
        "df.ocean_proximity.unique()"
      ],
      "execution_count": 79,
      "outputs": [
        {
          "output_type": "execute_result",
          "data": {
            "text/plain": [
              "array(['NEAR BAY', '<1H OCEAN', 'INLAND', 'NEAR OCEAN', 'ISLAND'],\n",
              "      dtype=object)"
            ]
          },
          "metadata": {
            "tags": []
          },
          "execution_count": 79
        }
      ]
    },
    {
      "cell_type": "markdown",
      "metadata": {
        "id": "yoeykySUHf8b",
        "colab_type": "text"
      },
      "source": [
        "**Which are the variable types?**"
      ]
    },
    {
      "cell_type": "code",
      "metadata": {
        "id": "Jlz3xO_2ePIZ",
        "colab_type": "code",
        "outputId": "df66522e-d136-4bfd-a3a9-5e1010c6772d",
        "colab": {
          "base_uri": "https://localhost:8080/",
          "height": 306
        }
      },
      "source": [
        "# variable types and missing values\n",
        "# tipos de variáveis e valores nulos\n",
        "df.info()"
      ],
      "execution_count": 80,
      "outputs": [
        {
          "output_type": "stream",
          "text": [
            "<class 'pandas.core.frame.DataFrame'>\n",
            "RangeIndex: 20640 entries, 0 to 20639\n",
            "Data columns (total 10 columns):\n",
            " #   Column              Non-Null Count  Dtype  \n",
            "---  ------              --------------  -----  \n",
            " 0   longitude           20640 non-null  float64\n",
            " 1   latitude            20640 non-null  float64\n",
            " 2   housing_median_age  20640 non-null  float64\n",
            " 3   total_rooms         20640 non-null  float64\n",
            " 4   total_bedrooms      20433 non-null  float64\n",
            " 5   population          20640 non-null  float64\n",
            " 6   households          20640 non-null  float64\n",
            " 7   median_income       20640 non-null  float64\n",
            " 8   median_house_value  20640 non-null  float64\n",
            " 9   ocean_proximity     20640 non-null  object \n",
            "dtypes: float64(9), object(1)\n",
            "memory usage: 1.6+ MB\n"
          ],
          "name": "stdout"
        }
      ]
    },
    {
      "cell_type": "markdown",
      "metadata": {
        "id": "htac5E6VHq2s",
        "colab_type": "text"
      },
      "source": [
        "**Are there too many missing values in the series?**\n",
        "\n",
        "Let´s check the integrity of the dataset using `.isnull()`."
      ]
    },
    {
      "cell_type": "code",
      "metadata": {
        "id": "f_3kG_HVeUOw",
        "colab_type": "code",
        "outputId": "d9326abf-e866-47bf-a435-87ec7572cdab",
        "colab": {
          "base_uri": "https://localhost:8080/",
          "height": 204
        }
      },
      "source": [
        "# percentage of null values \n",
        "# percentual de valores nulos\n",
        "(df.isnull().sum()/df.shape[0]).sort_values(ascending=False)"
      ],
      "execution_count": 81,
      "outputs": [
        {
          "output_type": "execute_result",
          "data": {
            "text/plain": [
              "total_bedrooms        0.010029\n",
              "ocean_proximity       0.000000\n",
              "median_house_value    0.000000\n",
              "median_income         0.000000\n",
              "households            0.000000\n",
              "population            0.000000\n",
              "total_rooms           0.000000\n",
              "housing_median_age    0.000000\n",
              "latitude              0.000000\n",
              "longitude             0.000000\n",
              "dtype: float64"
            ]
          },
          "metadata": {
            "tags": []
          },
          "execution_count": 81
        }
      ]
    },
    {
      "cell_type": "markdown",
      "metadata": {
        "id": "joXSe7vbH3PS",
        "colab_type": "text"
      },
      "source": [
        "**A quick statistical sum up:**"
      ]
    },
    {
      "cell_type": "code",
      "metadata": {
        "id": "ybg-8N7ggOB0",
        "colab_type": "code",
        "outputId": "0b8e23fd-2753-4234-a2a8-6398b77e7f18",
        "colab": {
          "base_uri": "https://localhost:8080/",
          "height": 297
        }
      },
      "source": [
        "# statistical summary of the variables\n",
        "# resumo estatístico das variáveis\n",
        "df.describe()"
      ],
      "execution_count": 100,
      "outputs": [
        {
          "output_type": "execute_result",
          "data": {
            "text/html": [
              "<div>\n",
              "<style scoped>\n",
              "    .dataframe tbody tr th:only-of-type {\n",
              "        vertical-align: middle;\n",
              "    }\n",
              "\n",
              "    .dataframe tbody tr th {\n",
              "        vertical-align: top;\n",
              "    }\n",
              "\n",
              "    .dataframe thead th {\n",
              "        text-align: right;\n",
              "    }\n",
              "</style>\n",
              "<table border=\"1\" class=\"dataframe\">\n",
              "  <thead>\n",
              "    <tr style=\"text-align: right;\">\n",
              "      <th></th>\n",
              "      <th>longitude</th>\n",
              "      <th>latitude</th>\n",
              "      <th>housing_median_age</th>\n",
              "      <th>total_rooms</th>\n",
              "      <th>total_bedrooms</th>\n",
              "      <th>population</th>\n",
              "      <th>households</th>\n",
              "      <th>median_income</th>\n",
              "      <th>median_house_value</th>\n",
              "    </tr>\n",
              "  </thead>\n",
              "  <tbody>\n",
              "    <tr>\n",
              "      <th>count</th>\n",
              "      <td>20640.000000</td>\n",
              "      <td>20640.000000</td>\n",
              "      <td>20640.000000</td>\n",
              "      <td>20640.000000</td>\n",
              "      <td>20433.000000</td>\n",
              "      <td>20640.000000</td>\n",
              "      <td>20640.000000</td>\n",
              "      <td>20640.000000</td>\n",
              "      <td>20640.000000</td>\n",
              "    </tr>\n",
              "    <tr>\n",
              "      <th>mean</th>\n",
              "      <td>-119.569704</td>\n",
              "      <td>35.631861</td>\n",
              "      <td>28.639486</td>\n",
              "      <td>2635.763081</td>\n",
              "      <td>537.870553</td>\n",
              "      <td>1425.476744</td>\n",
              "      <td>499.539680</td>\n",
              "      <td>3.870671</td>\n",
              "      <td>206855.816909</td>\n",
              "    </tr>\n",
              "    <tr>\n",
              "      <th>std</th>\n",
              "      <td>2.003532</td>\n",
              "      <td>2.135952</td>\n",
              "      <td>12.585558</td>\n",
              "      <td>2181.615252</td>\n",
              "      <td>421.385070</td>\n",
              "      <td>1132.462122</td>\n",
              "      <td>382.329753</td>\n",
              "      <td>1.899822</td>\n",
              "      <td>115395.615874</td>\n",
              "    </tr>\n",
              "    <tr>\n",
              "      <th>min</th>\n",
              "      <td>-124.350000</td>\n",
              "      <td>32.540000</td>\n",
              "      <td>1.000000</td>\n",
              "      <td>2.000000</td>\n",
              "      <td>1.000000</td>\n",
              "      <td>3.000000</td>\n",
              "      <td>1.000000</td>\n",
              "      <td>0.499900</td>\n",
              "      <td>14999.000000</td>\n",
              "    </tr>\n",
              "    <tr>\n",
              "      <th>25%</th>\n",
              "      <td>-121.800000</td>\n",
              "      <td>33.930000</td>\n",
              "      <td>18.000000</td>\n",
              "      <td>1447.750000</td>\n",
              "      <td>296.000000</td>\n",
              "      <td>787.000000</td>\n",
              "      <td>280.000000</td>\n",
              "      <td>2.563400</td>\n",
              "      <td>119600.000000</td>\n",
              "    </tr>\n",
              "    <tr>\n",
              "      <th>50%</th>\n",
              "      <td>-118.490000</td>\n",
              "      <td>34.260000</td>\n",
              "      <td>29.000000</td>\n",
              "      <td>2127.000000</td>\n",
              "      <td>435.000000</td>\n",
              "      <td>1166.000000</td>\n",
              "      <td>409.000000</td>\n",
              "      <td>3.534800</td>\n",
              "      <td>179700.000000</td>\n",
              "    </tr>\n",
              "    <tr>\n",
              "      <th>75%</th>\n",
              "      <td>-118.010000</td>\n",
              "      <td>37.710000</td>\n",
              "      <td>37.000000</td>\n",
              "      <td>3148.000000</td>\n",
              "      <td>647.000000</td>\n",
              "      <td>1725.000000</td>\n",
              "      <td>605.000000</td>\n",
              "      <td>4.743250</td>\n",
              "      <td>264725.000000</td>\n",
              "    </tr>\n",
              "    <tr>\n",
              "      <th>max</th>\n",
              "      <td>-114.310000</td>\n",
              "      <td>41.950000</td>\n",
              "      <td>52.000000</td>\n",
              "      <td>39320.000000</td>\n",
              "      <td>6445.000000</td>\n",
              "      <td>35682.000000</td>\n",
              "      <td>6082.000000</td>\n",
              "      <td>15.000100</td>\n",
              "      <td>500001.000000</td>\n",
              "    </tr>\n",
              "  </tbody>\n",
              "</table>\n",
              "</div>"
            ],
            "text/plain": [
              "          longitude      latitude  ...  median_income  median_house_value\n",
              "count  20640.000000  20640.000000  ...   20640.000000        20640.000000\n",
              "mean    -119.569704     35.631861  ...       3.870671       206855.816909\n",
              "std        2.003532      2.135952  ...       1.899822       115395.615874\n",
              "min     -124.350000     32.540000  ...       0.499900        14999.000000\n",
              "25%     -121.800000     33.930000  ...       2.563400       119600.000000\n",
              "50%     -118.490000     34.260000  ...       3.534800       179700.000000\n",
              "75%     -118.010000     37.710000  ...       4.743250       264725.000000\n",
              "max     -114.310000     41.950000  ...      15.000100       500001.000000\n",
              "\n",
              "[8 rows x 9 columns]"
            ]
          },
          "metadata": {
            "tags": []
          },
          "execution_count": 100
        }
      ]
    },
    {
      "cell_type": "markdown",
      "metadata": {
        "id": "-9PKbVucIBGC",
        "colab_type": "text"
      },
      "source": [
        "From this table, we can extract some meaningful insights. For example, the minimum number of households is 1, and the minimum population is 3 for a given area. This can mean the neighbourhood is too small, or perhaps it lies on an island. The average of median house value is 206 thousand dollars, but the third quartile is not much higher than this, reaching 264 thousand dollars, so there must be a low amount of properties with values from this value to 500 thousand dolars. A similar situation happens to the median income, as 75% of the observations lie below 4.74 thousand dollars, however, the maximum amount reaches 15 thousand dollars.  "
      ]
    },
    {
      "cell_type": "markdown",
      "metadata": {
        "id": "iQUgnZ4lFeOn",
        "colab_type": "text"
      },
      "source": [
        "**Is the house value affected by the proximity to the ocean?**\n",
        "\n",
        "We can easily assess this information by grouping it according to the ocean_proximity variable. "
      ]
    },
    {
      "cell_type": "code",
      "metadata": {
        "id": "Vw-31qvWMuQF",
        "colab_type": "code",
        "outputId": "8ea93cfa-ed81-4a0a-b6a4-d414a48b738f",
        "colab": {
          "base_uri": "https://localhost:8080/",
          "height": 136
        }
      },
      "source": [
        "# calculate median house value by ocean proximity\n",
        "# calcular a mediana de preço do imóvel pela proximidade ao oceano\n",
        "df.groupby(['ocean_proximity']).median_house_value.mean().sort_values(ascending=False)"
      ],
      "execution_count": 83,
      "outputs": [
        {
          "output_type": "execute_result",
          "data": {
            "text/plain": [
              "ocean_proximity\n",
              "ISLAND        380440.000000\n",
              "NEAR BAY      259212.311790\n",
              "NEAR OCEAN    249433.977427\n",
              "<1H OCEAN     240084.285464\n",
              "INLAND        124805.392001\n",
              "Name: median_house_value, dtype: float64"
            ]
          },
          "metadata": {
            "tags": []
          },
          "execution_count": 83
        }
      ]
    },
    {
      "cell_type": "markdown",
      "metadata": {
        "id": "GIrpqrH_Nli-",
        "colab_type": "text"
      },
      "source": [
        "So we can conclude that properties closer to the ocean have a higher median value, as properties in the Island region reach an average value of US$ 380 thousand, **more than triple** of average Inland house values. **Notice that we are not relating the price with other features, such as property age or number of rooms.** \n",
        "\n",
        "###**What about the correlation of variables?**\n",
        "\n",
        "We want to understand if there is any relation among the listed variables. More precisely, we are interested in finding out the correlation among all the variables against `median_house_value`. One way of doing it is to build a **correlation matrix** using `.corr()` function and visualize it through a **Heatmap** built with **Seaborn** library. \n"
      ]
    },
    {
      "cell_type": "code",
      "metadata": {
        "id": "0fILyvCYe1Ck",
        "colab_type": "code",
        "colab": {}
      },
      "source": [
        "# generate a correlation matrix\n",
        "# gerar a matriz de correlação\n",
        "corr = df[['housing_median_age', 'total_rooms', 'total_bedrooms', 'population', 'households', 'median_income', 'median_house_value']].corr()"
      ],
      "execution_count": 0,
      "outputs": []
    },
    {
      "cell_type": "code",
      "metadata": {
        "id": "OD5X4mPHgFUR",
        "colab_type": "code",
        "outputId": "c1c343df-77de-4c10-a3a5-fd4aa23e8de1",
        "colab": {
          "base_uri": "https://localhost:8080/",
          "height": 365
        }
      },
      "source": [
        "# generate a heatmap\n",
        "# gerar um heatmap\n",
        "sns.heatmap(corr, fmt='.2f', cmap='RdGy', annot=True, square=False, linecolor='white');"
      ],
      "execution_count": 85,
      "outputs": [
        {
          "output_type": "display_data",
          "data": {
            "image/png": "[encoded data removed]",
            "text/plain": [
              "<Figure size 432x288 with 2 Axes>"
            ]
          },
          "metadata": {
            "tags": [],
            "needs_background": "light"
          }
        }
      ]
    },
    {
      "cell_type": "markdown",
      "metadata": {
        "id": "_avlzrS8EN0c",
        "colab_type": "text"
      },
      "source": [
        "From the heatmap, we can see that there are relevant correlations, some of them very obvious. For example, the number of total_rooms is 93% correlated with the number of bedrooms, which makes sense, as the more bedrooms, the more rooms. Total rooms also have a high correlation with the population, so the bigger the population, the bigger the number of rooms. For our target variable, median house value, the chart shows a higher correlation with the median income (69%), so the higher the owner median income, the higher the house value. The other variables show no significant correlation with the house value, as we can see in the chart´s last line. "
      ]
    },
    {
      "cell_type": "markdown",
      "metadata": {
        "id": "pEtE_7UqnMy8",
        "colab_type": "text"
      },
      "source": [
        "###**Simple Linear Regression**\n",
        "Now, we are going to perform a **Simple Linear Regression**. \n",
        "\n",
        "The name of the model is self explicative, meaning we are going to find the **linear equation** that best depicts the relation between **two variables, the dependent variable or target (y), or the variable we want to be able to explain and predict**, and the **independent, explicative or feature variable (x), which will help to explain the dependent variable**.\n",
        "\n",
        "In our dataset, we want to find a model that best explains the `median_house_value`, that is our **dependent variable**. As we have many independent variables, we are going to choose the variable `median_income` to explain and predict the house value. \n",
        "\n",
        "To perform the linear regression, we will use **scikit-learn** library. The package comes already installed with Python, but in the case it doesn´t, it can be easily installed using `-pip` or `-conda`. It comes with tools to perform predictive data analysis, working with: \n",
        "- **classification**, or identifying a category an object belongs to\n",
        "- **regression**, predicting continuous values\n",
        "- **clustering**, grouping similar objects \n",
        "- **model selection**, comparing and choosing paramerters \n",
        "- **preprocessing**, transforming input data, like text, to be used with machine learning algorithms.\n",
        "\n",
        "To perform the regression, we will need to:\n",
        "\n",
        "**1.** Import scikit-learn packages \n",
        "\n",
        "**2.** Define the variables X and y\n",
        "\n",
        "**3.** Split the data into train and test\n",
        "\n",
        "**4.** Run the regression on train series to obtain the \n",
        "\n",
        "**5.** Predict y values using the test \n",
        "\n",
        "**6.** Check the model accuracy using pre-defined metrics\n",
        "\n",
        "So, to begin with we will import the `scikit-learn library`, more specifically, the sub-packages that will allow us to split the series, run the regression and calculate the accuracy of the model. \n",
        "\n",
        "\n",
        "**1. Import scikit-learn library**\n",
        "\n",
        "\n",
        "\n"
      ]
    },
    {
      "cell_type": "code",
      "metadata": {
        "colab_type": "code",
        "id": "v7L3Z8Xedej1",
        "colab": {}
      },
      "source": [
        "# import scikit-learn\n",
        "#  importar o scikit-learn\n",
        "from sklearn.linear_model import LinearRegression\n",
        "from sklearn.model_selection import train_test_split\n",
        "\n",
        "from sklearn.metrics import r2_score\n",
        "from sklearn.metrics import mean_squared_error\n",
        "from sklearn.metrics import mean_absolute_error"
      ],
      "execution_count": 0,
      "outputs": []
    },
    {
      "cell_type": "markdown",
      "metadata": {
        "id": "fbnVZ_9bdfg6",
        "colab_type": "text"
      },
      "source": [
        "**2. Determine X and y**\n",
        "\n",
        "Here, we select the `median_income` as independent variable X, because it has the greatest correlation with the `median_house_value`, as noticed in previous section. "
      ]
    },
    {
      "cell_type": "code",
      "metadata": {
        "id": "xZXmFpMWwH__",
        "colab_type": "code",
        "colab": {}
      },
      "source": [
        "# determine X and y... be careful with 1-feature (reshape)\n",
        "# determinar X e y... atenção com o 1-feature (reshape)\n",
        "X = df['median_income'].values.reshape(-1,1)\n",
        "y = df['median_house_value']"
      ],
      "execution_count": 0,
      "outputs": []
    },
    {
      "cell_type": "markdown",
      "metadata": {
        "id": "2FlpBIr1dynk",
        "colab_type": "text"
      },
      "source": [
        "**3. Split the data into train and test sets**\n",
        "\n",
        "This part is necessary because we will have to train the model in one part of the dataset, the `train part`. If we run the model on the entire dataset, it will be **overfitted**, or too much adjusted to the dataset, but not for **out-of-the-sample** data. We want a model that is specific enough to explain the dependent variable, but generalized enough to be able to work with newly added data. \n",
        "\n",
        "The `test part`, the part that was not previously used in model training, will be used later, after the most fit model is chosen, to predict the data. Then, we can check the accuracy of the model to work with `out-of-the-sample`  by **comparing the predicted values with the effective values** from the test part.\n",
        "\n",
        "The split default is 75% of the series assigned to train part, and 25% to the test part. The split is random, it means it will not split the first 75% of the series, but 75% of the data not in direct order. "
      ]
    },
    {
      "cell_type": "code",
      "metadata": {
        "id": "8jbxdL4WxIu5",
        "colab_type": "code",
        "colab": {}
      },
      "source": [
        "# divide the dataset into train and test\n",
        "# dividir o dataset em treino e teste\n",
        "X_train, X_test, y_train, y_test = train_test_split(X,y)"
      ],
      "execution_count": 0,
      "outputs": []
    },
    {
      "cell_type": "markdown",
      "metadata": {
        "id": "DJLofEI4gx4x",
        "colab_type": "text"
      },
      "source": [
        "**4. Generate and train the Linear Regression Model**\n",
        "\n",
        "This is the step where the regression will be run. To do so, we have to create a new variable in order to store the model. Here, we named it `rls`. Then, we use the `fit` function to calculate the model."
      ]
    },
    {
      "cell_type": "code",
      "metadata": {
        "id": "29wGPgNTxjFw",
        "colab_type": "code",
        "outputId": "a34f9584-f97a-4542-f2d7-a31dc07307ed",
        "colab": {
          "base_uri": "https://localhost:8080/",
          "height": 34
        }
      },
      "source": [
        "# generate and train the linear regression model\n",
        "# criar e treinar o modelo de regressão linear\n",
        "rls = LinearRegression()\n",
        "rls.fit(X_train, y_train)"
      ],
      "execution_count": 89,
      "outputs": [
        {
          "output_type": "execute_result",
          "data": {
            "text/plain": [
              "LinearRegression(copy_X=True, fit_intercept=True, n_jobs=None, normalize=False)"
            ]
          },
          "metadata": {
            "tags": []
          },
          "execution_count": 89
        }
      ]
    },
    {
      "cell_type": "markdown",
      "metadata": {
        "id": "zFmWL8Vjh2rx",
        "colab_type": "text"
      },
      "source": [
        "Now that the model is calculated, we can print the `coefficient` and `intercept` of the simple linear regression."
      ]
    },
    {
      "cell_type": "code",
      "metadata": {
        "id": "QtrBBvSGycEr",
        "colab_type": "code",
        "outputId": "2696ba1b-0bb1-4043-cf48-b780473a1cc5",
        "colab": {
          "base_uri": "https://localhost:8080/",
          "height": 51
        }
      },
      "source": [
        "# print the coefficients\n",
        "# imprimir os coeficientes\n",
        "print('Coefficient:\\t {}'.format(rls.coef_))\n",
        "print('Intercept:\\t{}'.format(rls.intercept_))"
      ],
      "execution_count": 90,
      "outputs": [
        {
          "output_type": "stream",
          "text": [
            "Coefficient:\t [41632.73287001]\n",
            "Intercept:\t45558.50937107665\n"
          ],
          "name": "stdout"
        }
      ]
    },
    {
      "cell_type": "markdown",
      "metadata": {
        "id": "B-XQIXEDnNII",
        "colab_type": "text"
      },
      "source": [
        "That means that our equation is:\n",
        "\n",
        "`y_pred = 41632.73 * X + 45558.51`\n",
        "\n",
        "Now, we can plot the scatter plot to see the relation between the variables and draw the regression line:"
      ]
    },
    {
      "cell_type": "code",
      "metadata": {
        "id": "oL2k-BK1y76m",
        "colab_type": "code",
        "outputId": "cdc8d77d-65eb-44b6-a5af-6e3f50f50ef1",
        "colab": {
          "base_uri": "https://localhost:8080/",
          "height": 428
        }
      },
      "source": [
        "# plot the scatter plot\n",
        "# plotar o gráfico de dispersão\n",
        "\n",
        "fig, ax = plt.subplots(figsize=(10,7))\n",
        "\n",
        "ax.scatter(X, y, s=2, color='b')\n",
        "ax.plot(X, (rls.coef_*X + rls.intercept_), '-r', linewidth=1)\n",
        "ax.set_xlim(0, 15)\n",
        "ax.set_ylim(0, 550000)\n",
        "\n",
        "plt.show()"
      ],
      "execution_count": 91,
      "outputs": [
        {
          "output_type": "display_data",
          "data": {
            "image/png": "[encoded data removed]",
            "text/plain": [
              "<Figure size 720x504 with 1 Axes>"
            ]
          },
          "metadata": {
            "tags": [],
            "needs_background": "light"
          }
        }
      ]
    },
    {
      "cell_type": "markdown",
      "metadata": {
        "id": "IKVL-eMpn8OO",
        "colab_type": "text"
      },
      "source": [
        "**5. Predict the y using X-test**\n",
        "\n",
        "To predict the y, we have to create a y_pred variable and apply the `.predict()` function to the X_test part."
      ]
    },
    {
      "cell_type": "code",
      "metadata": {
        "id": "tMC7DiDO2PiV",
        "colab_type": "code",
        "colab": {}
      },
      "source": [
        "# test the model\n",
        "# testar o modelo\n",
        "y_pred = rls.predict(X_test)"
      ],
      "execution_count": 0,
      "outputs": []
    },
    {
      "cell_type": "markdown",
      "metadata": {
        "id": "mgGmXVy0oIeR",
        "colab_type": "text"
      },
      "source": [
        "**6. Check the model accuracy**\n",
        "\n",
        "As we have already imported the `skleanr metrics` libraries, we will apply the following metrics: \n",
        "\n",
        "- R2-Score\n",
        "- Mean Absolute Error\n",
        "- Mean Squared Error"
      ]
    },
    {
      "cell_type": "code",
      "metadata": {
        "id": "8sRA7wIV44Em",
        "colab_type": "code",
        "outputId": "6c27e5d1-b4da-4b1f-b2d3-d2b12bbaaa88",
        "colab": {
          "base_uri": "https://localhost:8080/",
          "height": 68
        }
      },
      "source": [
        "# evaluate the model´s performance\n",
        "# avaliar a performance do modelo\n",
        "print('R2-Score:\\t{}'.format(r2_score(y_test, y_pred)))\n",
        "print('Mean Absolute Error:\\t{}'.format(mean_absolute_error(y_test, y_pred)))\n",
        "print('Mean Squared Error:\\t{}'.format(mean_squared_error(y_test, y_pred)))"
      ],
      "execution_count": 93,
      "outputs": [
        {
          "output_type": "stream",
          "text": [
            "R2-Score:\t0.48422512952061925\n",
            "Mean Absolute Error:\t62588.884678385664\n",
            "Mean Squared Error:\t6986998033.836098\n"
          ],
          "name": "stdout"
        }
      ]
    },
    {
      "cell_type": "markdown",
      "metadata": {
        "id": "xI5H4sJmLJgn",
        "colab_type": "text"
      },
      "source": [
        "Our R2 Score is below 0.50, which indicates a low goodness of fit of the model, so the predicted values will be somewhat far from the real values, and the predictions will not be so accurate. It is possible to observe that the points are more dispersed compared to the regression line.\n",
        "\n",
        "We have also the figures for MAE and MSE, but as we have only one simulation, it is not possible to compare if they are the most accurate.\n",
        "\n",
        "Now, let´s plot the predicted and effective y values:"
      ]
    },
    {
      "cell_type": "code",
      "metadata": {
        "id": "yxcyTkeu6CTy",
        "colab_type": "code",
        "outputId": "11be35d0-beec-44c9-c62b-296f7c79e807",
        "colab": {
          "base_uri": "https://localhost:8080/",
          "height": 280
        }
      },
      "source": [
        "# plot the predicted and real y\n",
        "# plotar o y real e o projetado\n",
        "\n",
        "fig, ax = plt.subplots()\n",
        "\n",
        "ax.scatter(y_test, y_pred, s=2)\n",
        "ax.plot(y_test, y_test, '--r')\n",
        "ax.set_xlabel('y_test')\n",
        "ax.set_ylabel('y_pred')\n",
        "ax.set_xlim(0, 550000)\n",
        "ax.set_ylim(0, 550000)\n",
        "\n",
        "plt.show()"
      ],
      "execution_count": 96,
      "outputs": [
        {
          "output_type": "display_data",
          "data": {
            "image/png": "[encoded data removed]",
            "text/plain": [
              "<Figure size 432x288 with 1 Axes>"
            ]
          },
          "metadata": {
            "tags": [],
            "needs_background": "light"
          }
        }
      ]
    },
    {
      "cell_type": "markdown",
      "metadata": {
        "id": "bYfaBaC8uanB",
        "colab_type": "text"
      },
      "source": [
        "As we have already seen for R2 Score, the scatter plot shows that there the predicted values are not very close to the actual ones. A **high R2-Score** would be depicted by points concentrated on the red **45 degree line**, with low or no dispersion. We have data more concentrated on the first 100 thousand dollars, meaning a higher accuracy for this range, that is reduced as the value increases. "
      ]
    },
    {
      "cell_type": "markdown",
      "metadata": {
        "id": "kcUpqFpJpnp1",
        "colab_type": "text"
      },
      "source": [
        "###**Housing Value Forecast**\n",
        "After all the analysis and regression exercise, we get to the desired point. We did all of the previous tasks to be able to predict a random property value based on the income of the owner. Remember we are talking about average values here. \n",
        "\n",
        "So what would be the estimated house price for an owner with US$ 15 thousand yearly income?"
      ]
    },
    {
      "cell_type": "code",
      "metadata": {
        "id": "VQ84lw5YDQaD",
        "colab_type": "code",
        "outputId": "c25d3f15-cd1c-4035-da7b-a4b3bf288510",
        "colab": {
          "base_uri": "https://localhost:8080/",
          "height": 34
        }
      },
      "source": [
        "# predict the property value for a median income of US$15k\n",
        "# estimar o valor da propriedade para uma renda média de US$ 15 mil\n",
        "y_15 = rls.coef_*15 + rls.intercept_\n",
        "print('The estimated house value for an US$ 15k income is {}:'.format(y_15))"
      ],
      "execution_count": 97,
      "outputs": [
        {
          "output_type": "stream",
          "text": [
            "The estimated house value for an US$ 15k income is [670049.50242125]:\n"
          ],
          "name": "stdout"
        }
      ]
    },
    {
      "cell_type": "markdown",
      "metadata": {
        "id": "sAxjVz6Sp1Nv",
        "colab_type": "text"
      },
      "source": [
        "That means that, for a US$15 thousand average income, the house value will be over 670 thousand dollars."
      ]
    },
    {
      "cell_type": "markdown",
      "metadata": {
        "id": "IQgZUK6aK5aS",
        "colab_type": "text"
      },
      "source": [
        "**Conclusion**\n",
        "\n",
        "We used our first tool in `scikit-learn` to develop a **Machine Learning** exercise, namely, a Simple Linear Regression. The first part of this exercise used previously learned tools from `pandas` and `matplotlib` in order to organize the dataset, analyze the data and plot the values. We went through the characteristics of the dataset, analyzed basic statistical features, established the correlation among the variables, and so on. \n",
        "\n",
        "On the following part, we started the **Simple Regression Analysis** using **scikit-learn** library, giving a brief explanation of the steps to perform it.  We determined the variables, decomposed the series into **train and test** series, performed the regression and predicted some values, apart from calculating the model accuracy. "
      ]
    }
  ]
}